{
 "cells": [
  {
   "cell_type": "code",
   "execution_count": 14,
   "id": "1cbebc89",
   "metadata": {},
   "outputs": [
    {
     "name": "stdout",
     "output_type": "stream",
     "text": [
      "images-downloaded successfully\n"
     ]
    }
   ],
   "source": [
    "# we import bs4 package for using BeautifulSoup function\n",
    "#For opening the url we can import the urllib.request package\n",
    "import bs4 \n",
    "import urllib.request as ur   \n",
    "\n",
    "\n",
    "#we can assign url  to the url variable\n",
    "#open the url using urlopen from urllib.request package\n",
    "url=\"https://www.indiatoday.in/science\"\n",
    "uc=ur.urlopen(url) \n",
    "\n",
    "\n",
    "#read the content in the url using read()\n",
    "#close the read() function using the close()\n",
    "ph=uc.read()\n",
    "uc.close()\n",
    "\n",
    "\n",
    "#Apply BeautifulSoup() using readed content in ph variable\n",
    "#find the requeried content tags using the find_all()\n",
    "pg=bs4.BeautifulSoup(ph,\"html.parser\")\n",
    "cl=pg.find_all(\"div\",{\"class\":\"catagory-listing\"})\n",
    "\n",
    "\n",
    "#create an empty list for storing the image urls\n",
    "#iterate the cl list which store data in the form of list from find_all()\n",
    "img_url=[]\n",
    "for i in cl:\n",
    "    #get images tag from the each list in cl using the finall(\"img\")\n",
    "    im=i.find_all(\"img\")\n",
    "    #iterate the stored img tag in im variable\n",
    "    for j in im:\n",
    "        #from the img tag we get the url of the image by using get('src')\n",
    "        img_url.append(j.get('src'))\n",
    "\n",
    "        \n",
    "#iterate the imgs_url list\n",
    "for i in img_url:\n",
    "    #give the folder location to store the images\n",
    "    #using the urlretrieve function we get image from url then store into given file path\n",
    "    \n",
    "    fullpath=\"C:\\\\Users\\\\MS\\\\Desktop\\\\web-scarp\\\\\"+\"image\"+str(img_url.index(i))+'.jpg' \n",
    "    ur.urlretrieve(i,fullpath)\n",
    "    \n",
    "print(\"images-downloaded successfully\")"
   ]
  }
 ],
 "metadata": {
  "kernelspec": {
   "display_name": "Python 3",
   "language": "python",
   "name": "python3"
  },
  "language_info": {
   "codemirror_mode": {
    "name": "ipython",
    "version": 3
   },
   "file_extension": ".py",
   "mimetype": "text/x-python",
   "name": "python",
   "nbconvert_exporter": "python",
   "pygments_lexer": "ipython3",
   "version": "3.8.5"
  }
 },
 "nbformat": 4,
 "nbformat_minor": 5
}
